{
 "cells": [
  {
   "cell_type": "markdown",
   "metadata": {},
   "source": [
    "## Căn lề trái cho các biến số trong Stata"
   ]
  },
  {
   "cell_type": "markdown",
   "metadata": {
    "hide_input": false
   },
   "source": [
    "Chúng ta thường quen với việc làm việc với văn bản được căn lề trái như trong word hoặc excel. Căn lề phải thường chỉ áp dụng khi gặp một số trường hợp cụ thể. Tuy nhiên, trong Stata biến số kí tự được mặc định căn lề phải, đôi khi việc này làm cho chúng ta  khó quan sát biến đó hơn. Bài hôm nay tôi sẽ giới thiệu cách để căn trái lại đối với biến kí tự khi làm việc với Stata"
   ]
  },
  {
   "cell_type": "markdown",
   "metadata": {},
   "source": [
    "Ví dụ về căn phải số liệu trong Stata:"
   ]
  },
  {
   "cell_type": "code",
   "execution_count": 1,
   "metadata": {
    "hide_input": false
   },
   "outputs": [
    {
     "name": "stdout",
     "output_type": "stream",
     "text": [
      "\n",
      "(1978 Automobile Data)\n",
      "\n"
     ]
    }
   ],
   "source": [
    "sysuse auto, clear\n",
    "qui format make %18s"
   ]
  },
  {
   "cell_type": "code",
   "execution_count": 2,
   "metadata": {
    "hide_input": true
   },
   "outputs": [
    {
     "data": {
      "text/html": [
       "<div>\n",
       "<style scoped>\n",
       "    .dataframe tbody tr th:only-of-type {\n",
       "        vertical-align: middle;\n",
       "    }\n",
       "\n",
       "    .dataframe tbody tr th {\n",
       "        vertical-align: top;\n",
       "    }\n",
       "\n",
       "    .dataframe thead th {\n",
       "        text-align: right;\n",
       "    }\n",
       "</style>\n",
       "<table border=\"1\" class=\"dataframe\">\n",
       "  <thead>\n",
       "    <tr style=\"text-align: right;\">\n",
       "      <th></th>\n",
       "      <th>make</th>\n",
       "    </tr>\n",
       "  </thead>\n",
       "  <tbody>\n",
       "    <tr>\n",
       "      <th>1</th>\n",
       "      <td>AMC Concord</td>\n",
       "    </tr>\n",
       "    <tr>\n",
       "      <th>2</th>\n",
       "      <td>AMC Pacer</td>\n",
       "    </tr>\n",
       "    <tr>\n",
       "      <th>3</th>\n",
       "      <td>AMC Spirit</td>\n",
       "    </tr>\n",
       "    <tr>\n",
       "      <th>4</th>\n",
       "      <td>Buick Century</td>\n",
       "    </tr>\n",
       "    <tr>\n",
       "      <th>5</th>\n",
       "      <td>Buick Electra</td>\n",
       "    </tr>\n",
       "    <tr>\n",
       "      <th>6</th>\n",
       "      <td>Buick LeSabre</td>\n",
       "    </tr>\n",
       "    <tr>\n",
       "      <th>7</th>\n",
       "      <td>Buick Opel</td>\n",
       "    </tr>\n",
       "    <tr>\n",
       "      <th>8</th>\n",
       "      <td>Buick Regal</td>\n",
       "    </tr>\n",
       "    <tr>\n",
       "      <th>9</th>\n",
       "      <td>Buick Riviera</td>\n",
       "    </tr>\n",
       "    <tr>\n",
       "      <th>10</th>\n",
       "      <td>Buick Skylark</td>\n",
       "    </tr>\n",
       "  </tbody>\n",
       "</table>\n",
       "</div>"
      ],
      "text/plain": [
       "\n",
       "     +---------------+\n",
       "     |          make |\n",
       "     |---------------|\n",
       "  1. |   AMC Concord |\n",
       "  2. |     AMC Pacer |\n",
       "  3. |    AMC Spirit |\n",
       "  4. | Buick Century |\n",
       "  5. | Buick Electra |\n",
       "     |---------------|\n",
       "  6. | Buick LeSabre |\n",
       "  7. |    Buick Opel |\n",
       "  8. |   Buick Regal |\n",
       "  9. | Buick Riviera |\n",
       " 10. | Buick Skylark |\n",
       "     +---------------+\n",
       "\n"
      ]
     },
     "metadata": {},
     "output_type": "display_data"
    }
   ],
   "source": [
    "%head 10 make"
   ]
  },
  {
   "cell_type": "markdown",
   "metadata": {},
   "source": [
    "Đối với những biến số có nhiều ký tự hơn thì việc quan sát sẽ có thể khó khăn hơn. Dưới đây là 2 cách căn lề trái cho giá trị của các biến số trong Stata"
   ]
  },
  {
   "cell_type": "markdown",
   "metadata": {},
   "source": [
    "### Cách 1: Sử dụng câu lênh leftalign của Robert Picard.\n",
    "\n",
    "Tìm kiếm câu lệnh và tải bằng cách sử dụng lệnh:\n",
    "```stata \n",
    "search leftalign\n",
    "```"
   ]
  },
  {
   "cell_type": "code",
   "execution_count": 3,
   "metadata": {},
   "outputs": [
    {
     "name": "stdout",
     "output_type": "stream",
     "text": [
      "\n",
      "              storage   display    value\n",
      "variable name   type    format     label      variable label\n",
      "--------------------------------------------------------------------------------\n",
      "make            str18   %-18s                 Make and Model\n"
     ]
    }
   ],
   "source": [
    "leftalign"
   ]
  },
  {
   "cell_type": "markdown",
   "metadata": {},
   "source": [
    "Nếu chỉ sử dụng câu lệnh ```leftalign``` một mình thì sẽ chỉ căn trái đối với biến số string. \n",
    "\n",
    "Lưu ý sau khi chạy lệnh bên trên mà tạo một biến string mới thì mặc định biến mới sẽ được căn phải."
   ]
  },
  {
   "cell_type": "code",
   "execution_count": 4,
   "metadata": {},
   "outputs": [
    {
     "name": "stdout",
     "output_type": "stream",
     "text": [
      "\n",
      "              storage   display    value\n",
      "variable name   type    format     label      variable label\n",
      "--------------------------------------------------------------------------------\n",
      "price           int     %-8.0gc               Price\n",
      "mpg             int     %-8.0g                Mileage (mpg)\n",
      "rep78           int     %-8.0g                Repair Record 1978\n",
      "headroom        float   %-6.1f                Headroom (in.)\n",
      "trunk           int     %-8.0g                Trunk space (cu. ft.)\n",
      "weight          int     %-8.0gc               Weight (lbs.)\n",
      "length          int     %-8.0g                Length (in.)\n",
      "turn            int     %-8.0g                Turn Circle (ft.)\n",
      "displacement    int     %-8.0g                Displacement (cu. in.)\n",
      "gear_ratio      float   %-6.2f                Gear Ratio\n",
      "foreign         byte    %-8.0g     origin     Car type\n"
     ]
    }
   ],
   "source": [
    "leftalign, all"
   ]
  },
  {
   "cell_type": "markdown",
   "metadata": {},
   "source": [
    "Nếu thêm lựa chọn ```all``` thì tất cả các biến số trong bộ dữ liệu sẽ được căn trái bao gồm cả biến dạng số"
   ]
  },
  {
   "cell_type": "code",
   "execution_count": 5,
   "metadata": {},
   "outputs": [],
   "source": [
    "leftalign, all label"
   ]
  },
  {
   "cell_type": "markdown",
   "metadata": {},
   "source": [
    "Đối với lựa chọn ```label```, chúng ta đã căn trái cho cả biến số với nhãn của biến số ấy. "
   ]
  },
  {
   "cell_type": "markdown",
   "metadata": {},
   "source": [
    "### Cách 2: Sử dụng 1 vòng lặp để thay đổi định dạng của các biến số\n",
    "\n",
    "Cách này tương đối thủ công hơn nhưng cũng tương đối phù hợp với những ai đã có kinh nghiệm programming với Stata"
   ]
  },
  {
   "cell_type": "code",
   "execution_count": 10,
   "metadata": {
    "hide_input": true
   },
   "outputs": [
    {
     "name": "stdout",
     "output_type": "stream",
     "text": [
      "\n",
      "(1978 Automobile Data)\n",
      "\n",
      "\n",
      "\n",
      "Contains data from C:\\Program Files (x86)\\Stata15\\ado\\base/a/auto.dta\n",
      "  obs:            74                          1978 Automobile Data\n",
      " vars:            12                          13 Apr 2016 17:45\n",
      " size:         3,182                          (_dta has notes)\n",
      "--------------------------------------------------------------------------------\n",
      "              storage   display    value\n",
      "variable name   type    format     label      variable label\n",
      "--------------------------------------------------------------------------------\n",
      "make            str18   %18s                  Make and Model\n",
      "price           int     %8.0gc                Price\n",
      "mpg             int     %8.0g                 Mileage (mpg)\n",
      "rep78           int     %8.0g                 Repair Record 1978\n",
      "headroom        float   %6.1f                 Headroom (in.)\n",
      "trunk           int     %8.0g                 Trunk space (cu. ft.)\n",
      "weight          int     %8.0gc                Weight (lbs.)\n",
      "length          int     %8.0g                 Length (in.)\n",
      "turn            int     %8.0g                 Turn Circle (ft.)\n",
      "displacement    int     %8.0g                 Displacement (cu. in.)\n",
      "gear_ratio      float   %6.2f                 Gear Ratio\n",
      "foreign         byte    %8.0g      origin     Car type\n",
      "--------------------------------------------------------------------------------\n",
      "Sorted by: foreign\n"
     ]
    }
   ],
   "source": [
    "sysuse auto, clear\n",
    "format make %18s\n",
    "d"
   ]
  },
  {
   "cell_type": "code",
   "execution_count": 11,
   "metadata": {},
   "outputs": [
    {
     "name": "stdout",
     "output_type": "stream",
     "text": [
      "\n",
      "\n",
      "\n",
      "\n",
      "Contains data from C:\\Program Files (x86)\\Stata15\\ado\\base/a/auto.dta\n",
      "  obs:            74                          1978 Automobile Data\n",
      " vars:            12                          13 Apr 2016 17:45\n",
      " size:         3,182                          (_dta has notes)\n",
      "--------------------------------------------------------------------------------\n",
      "              storage   display    value\n",
      "variable name   type    format     label      variable label\n",
      "--------------------------------------------------------------------------------\n",
      "make            str18   %-18s                 Make and Model\n",
      "price           int     %-8.0gc               Price\n",
      "mpg             int     %-8.0g                Mileage (mpg)\n",
      "rep78           int     %-8.0g                Repair Record 1978\n",
      "headroom        float   %-6.1f                Headroom (in.)\n",
      "trunk           int     %-8.0g                Trunk space (cu. ft.)\n",
      "weight          int     %-8.0gc               Weight (lbs.)\n",
      "length          int     %-8.0g                Length (in.)\n",
      "turn            int     %-8.0g                Turn Circle (ft.)\n",
      "displacement    int     %-8.0g                Displacement (cu. in.)\n",
      "gear_ratio      float   %-6.2f                Gear Ratio\n",
      "foreign         byte    %-8.0g     origin     Car type\n",
      "--------------------------------------------------------------------------------\n",
      "Sorted by: foreign\n"
     ]
    }
   ],
   "source": [
    "qui d, varlist\n",
    "foreach v in `r(varlist)' {\n",
    "    local fmt: format `v'\n",
    "    local fmt: subinstr local fmt \"%\" \"%-\"\n",
    "    format `v' `fmt'\n",
    "}\n",
    "d"
   ]
  },
  {
   "cell_type": "markdown",
   "metadata": {},
   "source": [
    "## Chúc các bạn thực hành vui!"
   ]
  },
  {
   "cell_type": "code",
   "execution_count": null,
   "metadata": {},
   "outputs": [],
   "source": []
  }
 ],
 "metadata": {
  "hide_input": false,
  "kernelspec": {
   "display_name": "Stata",
   "language": "stata",
   "name": "stata"
  },
  "language_info": {
   "codemirror_mode": "stata",
   "file_extension": ".do",
   "mimetype": "text/x-stata",
   "name": "stata",
   "version": "15.1"
  }
 },
 "nbformat": 4,
 "nbformat_minor": 4
}
