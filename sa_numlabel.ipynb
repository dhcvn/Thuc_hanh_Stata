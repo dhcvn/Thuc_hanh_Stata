{
 "cells": [
  {
   "cell_type": "markdown",
   "metadata": {},
   "source": [
    "# Bài giới thiệu về ```numlabel``` trong Stata\n",
    "\n",
    "Stata amateur\n",
    "\n",
    "12 tháng 8 năm 2021"
   ]
  },
  {
   "cell_type": "markdown",
   "metadata": {},
   "source": [
    "Người dùng Stata có thói quen gán nhãn giá trị cho biến định tính khác nhau. Giá trị bắt đầu có thể là 0 hoặc 1.\n",
    "\n",
    "_Ví dụ:_\n",
    "\n",
    "- 0 = Nam, 1 = Nữ hoặc 1 = Nam, 2 = Nữ\n",
    "- 0 = Không, 1 = Có hoặc 1 = Có, 2 = Không\n",
    "Hoặc có những biến số định tính có nhiều hơn 2 giá trị, thậm chí đến 9-10 giá trị khác nhau. Trong quá trình phân tích thậm chí chính người phân tích cũng không thể nhớ hết những giá trị đã gán cho tất cả các biến số trong bộ số liệu.\n",
    "\n",
    "_Ví dụ: Khi ta muốn phân tích riêng cho nam giới chúng ta gõ lệnh:_\n",
    "\n",
    "``` \n",
    "'command' if gender == 1\n",
    "** Hoặc đối với trình độ hoặc vấn, chúng ta có thể có lênh:\n",
    "'command' if hocvan == 3\n",
    "```\n",
    "Tuy nhiên, khi dùng lệnh ```tab``` chúng ta chỉ có được nhãn biến (Nam/Nữ hoặc Có/không...). Nếu chúng ta muốn biết Nam được gán là giá trị nào, Nữ là giá trị nào thì cần phải dùng một số cách khác. Một trong số đó được giới thiệu dưới đây:"
   ]
  },
  {
   "cell_type": "markdown",
   "metadata": {},
   "source": [
    "## Cách 1: Sử dụng option ```nolabel``` với lệnh ```tab```"
   ]
  },
  {
   "cell_type": "code",
   "execution_count": 2,
   "metadata": {},
   "outputs": [
    {
     "name": "stdout",
     "output_type": "stream",
     "text": [
      "\n",
      "(1978 Automobile Data)\n",
      "\n",
      "\n",
      "   Car type |      Freq.     Percent        Cum.\n",
      "------------+-----------------------------------\n",
      "   Domestic |         52       70.27       70.27\n",
      "    Foreign |         22       29.73      100.00\n",
      "------------+-----------------------------------\n",
      "      Total |         74      100.00\n",
      "\n",
      "\n",
      "   Car type |      Freq.     Percent        Cum.\n",
      "------------+-----------------------------------\n",
      "          0 |         52       70.27       70.27\n",
      "          1 |         22       29.73      100.00\n",
      "------------+-----------------------------------\n",
      "      Total |         74      100.00\n"
     ]
    }
   ],
   "source": [
    "sysuse auto, clear\n",
    "\n",
    "tab foreign, missing\n",
    "tab foreign, nolabel"
   ]
  },
  {
   "cell_type": "markdown",
   "metadata": {},
   "source": [
    "### Như vậy chúng ta đã biết _0_ được gán cho _Domestic_ và _1_ được gán cho _Foreign_"
   ]
  },
  {
   "cell_type": "markdown",
   "metadata": {},
   "source": [
    "## Cách 2: Gán số luôn vào nhãn biến trong ```label define```"
   ]
  },
  {
   "cell_type": "code",
   "execution_count": 5,
   "metadata": {},
   "outputs": [
    {
     "name": "stdout",
     "output_type": "stream",
     "text": [
      "\n",
      "\n",
      "\n",
      "\n",
      "   Car type |      Freq.     Percent        Cum.\n",
      "------------+-----------------------------------\n",
      " 0=Domestic |         52       70.27       70.27\n",
      "  1=Foreign |         22       29.73      100.00\n",
      "------------+-----------------------------------\n",
      "      Total |         74      100.00\n"
     ]
    }
   ],
   "source": [
    "label define foreign_label 0 \"0=Domestic\" 1 \"1=Foreign\", modify\n",
    "label value foreign foreign_label\n",
    "tab foreign"
   ]
  },
  {
   "cell_type": "markdown",
   "metadata": {},
   "source": [
    "Nếu xây dựng label như vậy, khi nhận số liệu từ đồng nghiệp hoặc mở lại số liệu sau nhiều ngày không làm việc đến chúng ta sẽ không bị lạ lẫm với những nhãn giá trị của biến số.\n",
    "\n",
    "Tuy nhiên, phương pháp này hạn chế ở điểm. Cần phải xây dựng nhãn biến này ban đầu, nếu nhận số liệu từ đồng nghiệp hoặc bạn bè thì sẽ mất công xây dựng lại (```label define``` lại tất cả các biến). Và nếu để các biến như vậy, khi xuất số liệu ra excel các phần label này khiến cho bảng kết quả cần phải chỉnh sửa lại nhiều."
   ]
  },
  {
   "cell_type": "markdown",
   "metadata": {},
   "source": [
    "## Cách 3: Stata command ```numlabel```"
   ]
  },
  {
   "cell_type": "code",
   "execution_count": 6,
   "metadata": {},
   "outputs": [
    {
     "name": "stdout",
     "output_type": "stream",
     "text": [
      "\n",
      "(1978 Automobile Data)\n",
      "\n",
      "\n",
      "   Car type |      Freq.     Percent        Cum.\n",
      "------------+-----------------------------------\n",
      "   Domestic |         52       70.27       70.27\n",
      "    Foreign |         22       29.73      100.00\n",
      "------------+-----------------------------------\n",
      "      Total |         74      100.00\n",
      "\n",
      "\n",
      "\n",
      "   Car type |      Freq.     Percent        Cum.\n",
      "------------+-----------------------------------\n",
      " 0=Domestic |         52       70.27       70.27\n",
      "  1=Foreign |         22       29.73      100.00\n",
      "------------+-----------------------------------\n",
      "      Total |         74      100.00\n"
     ]
    }
   ],
   "source": [
    "sysuse auto, clear\n",
    "\n",
    "tab foreign, missing\n",
    "numlabel, mask(#=) add\n",
    "tab foreign, missing"
   ]
  },
  {
   "cell_type": "markdown",
   "metadata": {},
   "source": [
    "Bằng 1 câu lệnh duy nhất ```numlabel```, tất cả các biến số được xác định nhãn biến trước đó sẽ được gán theo cú pháp tại option ```mask()```. Ở đây, tôi sử dụng _dấu bằng_, cũng có thể sử dụng dấu _chấm, chấm than, chấm hỏi_ tuỳ theo sở thích."
   ]
  },
  {
   "cell_type": "code",
   "execution_count": 8,
   "metadata": {},
   "outputs": [
    {
     "name": "stdout",
     "output_type": "stream",
     "text": [
      "\n",
      "(1978 Automobile Data)\n",
      "\n",
      "\n",
      "   Car type |      Freq.     Percent        Cum.\n",
      "------------+-----------------------------------\n",
      "   Domestic |         52       70.27       70.27\n",
      "    Foreign |         22       29.73      100.00\n",
      "------------+-----------------------------------\n",
      "      Total |         74      100.00\n",
      "\n",
      "\n",
      "\n",
      "   Car type |      Freq.     Percent        Cum.\n",
      "------------+-----------------------------------\n",
      " 0.Domestic |         52       70.27       70.27\n",
      "  1.Foreign |         22       29.73      100.00\n",
      "------------+-----------------------------------\n",
      "      Total |         74      100.00\n"
     ]
    }
   ],
   "source": [
    "sysuse auto, clear\n",
    "\n",
    "tab foreign, missing\n",
    "numlabel, mask(#.) add\n",
    "tab foreign, missing"
   ]
  },
  {
   "cell_type": "markdown",
   "metadata": {},
   "source": [
    "Khi mà chúng ta muốn xuất số liệu với nhãn biến ra excel, cần xoá những chữ số ở nhãn biến đi, ```numlabel``` sẽ thực hiện nhanh chóng cho tất cả các biến số được gán trước đó."
   ]
  },
  {
   "cell_type": "code",
   "execution_count": 11,
   "metadata": {},
   "outputs": [
    {
     "name": "stdout",
     "output_type": "stream",
     "text": [
      "\n",
      "\n",
      "   Car type |      Freq.     Percent        Cum.\n",
      "------------+-----------------------------------\n",
      " 0.Domestic |         52       70.27       70.27\n",
      "  1.Foreign |         22       29.73      100.00\n",
      "------------+-----------------------------------\n",
      "      Total |         74      100.00\n",
      "\n",
      "\n",
      "\n",
      "   Car type |      Freq.     Percent        Cum.\n",
      "------------+-----------------------------------\n",
      "   Domestic |         52       70.27       70.27\n",
      "    Foreign |         22       29.73      100.00\n",
      "------------+-----------------------------------\n",
      "      Total |         74      100.00\n"
     ]
    }
   ],
   "source": [
    "tab foreign, missing\n",
    "numlabel, remove mask(#.)\n",
    "\n",
    "tab foreign, missing"
   ]
  },
  {
   "cell_type": "markdown",
   "metadata": {},
   "source": [
    "## Kết luận:\n",
    "\n",
    "```numlabel``` là một câu lệnh làm việc với nhãn biến thuận tiện, tiết kiệm thời gian và công sức đối với một số trường hợp cụ thể. Bên cạnh đó nhiều câu lệnh khác nên tham khảo thêm bao gồm ```labelbook```, ```uselabel```, ```ds, has()```. Chúc các bạn thực hành vui!"
   ]
  },
  {
   "cell_type": "code",
   "execution_count": null,
   "metadata": {},
   "outputs": [],
   "source": []
  }
 ],
 "metadata": {
  "hide_input": false,
  "kernelspec": {
   "display_name": "Stata",
   "language": "stata",
   "name": "stata"
  },
  "language_info": {
   "codemirror_mode": "stata",
   "file_extension": ".do",
   "mimetype": "text/x-stata",
   "name": "stata",
   "version": "15.1"
  }
 },
 "nbformat": 4,
 "nbformat_minor": 4
}
