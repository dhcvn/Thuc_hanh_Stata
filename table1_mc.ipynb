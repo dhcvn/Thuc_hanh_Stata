{
 "cells": [
  {
   "cell_type": "markdown",
   "metadata": {},
   "source": [
    "# *table1_mc*: Mở rộng từ câu lệnh table1\n",
    "\n",
    "Tìm kiếm và cài đặt câu lệnh table1_mc bằng cách gõ câu lệnh sau\n",
    "\n",
    "```stata\n",
    "search table1_mc\n",
    "```"
   ]
  },
  {
   "cell_type": "markdown",
   "metadata": {},
   "source": [
    "## 1. Thêm lựa chọn cho cột tổng\n",
    "\n",
    "Đối với câu lệnh ban đầu là table1 thì sẽ không hiển thị cột tổng số giữa 2 nhóm. Dươi đây sẽ so sánh 2 câu lệnh với nhau"
   ]
  },
  {
   "cell_type": "code",
   "execution_count": 7,
   "metadata": {
    "hide_input": true
   },
   "outputs": [],
   "source": [
    "set linesize 150"
   ]
  },
  {
   "cell_type": "code",
   "execution_count": 15,
   "metadata": {},
   "outputs": [
    {
     "name": "stdout",
     "output_type": "stream",
     "text": [
      "\n",
      "\n",
      "\n",
      "\n",
      "  +--------------------------------------------------------+\n",
      "  | factor               N_0   N_1   N_T   m_0   m_1   m_T |\n",
      "  |--------------------------------------------------------|\n",
      "  | Price                 52    22    74     0     0     0 |\n",
      "  |--------------------------------------------------------|\n",
      "  | Weight (lbs.)         52    22    74     0     0     0 |\n",
      "  |--------------------------------------------------------|\n",
      "  | Repair Record 1978    48    21    69     4     1     5 |\n",
      "  |--------------------------------------------------------|\n",
      "  | much_headroom         52    22    74     0     0     0 |\n",
      "  +--------------------------------------------------------+\n",
      "   N_ ... #records used below,   m_ ... #records not used\n",
      " \n",
      "  +------------------------------------------------------------------------------------------------------------+\n",
      "  |                              Domestic                Foreign               Total                   p-value |\n",
      "  |------------------------------------------------------------------------------------------------------------|\n",
      "  |                              N=52                    N=22                  N=74                            |\n",
      "  |------------------------------------------------------------------------------------------------------------|\n",
      "  | Price                        4,782.5 (4,184-6,234)   5,759 (4,499-7,140)   5,006.5 (4,195-6,342)    0.30   |\n",
      "  |------------------------------------------------------------------------------------------------------------|\n",
      "  | Weight (lbs.)                3317 (695)              2316 (433)            3019 (777)              <0.001  |\n",
      "  |------------------------------------------------------------------------------------------------------------|\n",
      "  | Repair Record 1978   1       2 ( 4%)                 0 ( 0%)               2 ( 3%)                 <0.001  |\n",
      "  |                      2       8 (17%)                 0 ( 0%)               8 (12%)                         |\n",
      "  |                      3       27 (56%)                3 (14%)               30 (43%)                        |\n",
      "  |                      4       9 (19%)                 9 (43%)               18 (26%)                        |\n",
      "  |                      5       2 ( 4%)                 9 (43%)               11 (16%)                        |\n",
      "  |------------------------------------------------------------------------------------------------------------|\n",
      "  | much_headroom                28 (54%)                2 ( 9%)               30 (41%)                <0.001  |\n",
      "  +------------------------------------------------------------------------------------------------------------+\n",
      "Data are presented as mean (SD) for continuous measures, and n (%) for categorical measures.\n",
      " \n"
     ]
    }
   ],
   "source": [
    "qui sysuse auto, clear\n",
    "generate much_headroom = (headroom>3)\n",
    "table1_mc, by(foreign) vars(price conts\\ weight contn %5.0f \\ rep78 cate \\ much_headroom bine) total(after)"
   ]
  },
  {
   "cell_type": "markdown",
   "metadata": {},
   "source": [
    "<b>Chú ý: Câu lệnh table1 không có lựa chọn ```total```, chúng ta cũng có thể trình bày cột tổng ở phía trước của bảng với lựa chọn ```total(before)```</b>"
   ]
  },
  {
   "cell_type": "markdown",
   "metadata": {},
   "source": [
    "## 2. Định dạng bảng kết quả theo mong muốn của người phân tích"
   ]
  },
  {
   "cell_type": "markdown",
   "metadata": {},
   "source": [
    "## 2.1. Không hiển thị dấu ```%``` trong kết quả"
   ]
  },
  {
   "cell_type": "code",
   "execution_count": 16,
   "metadata": {},
   "outputs": [
    {
     "name": "stdout",
     "output_type": "stream",
     "text": [
      "\n",
      "  +--------------------------------------------+\n",
      "  | factor               N_0   N_1   m_0   m_1 |\n",
      "  |--------------------------------------------|\n",
      "  | Price                 52    22     0     0 |\n",
      "  |--------------------------------------------|\n",
      "  | Weight (lbs.)         52    22     0     0 |\n",
      "  |--------------------------------------------|\n",
      "  | Repair Record 1978    48    21     4     1 |\n",
      "  |--------------------------------------------|\n",
      "  | much_headroom         52    22     0     0 |\n",
      "  +--------------------------------------------+\n",
      "   N_ ... #records used below,   m_ ... #records not used\n",
      " \n",
      "  +------------------------------------------------------------------------------------+\n",
      "  |                              Domestic                Foreign               p-value |\n",
      "  |------------------------------------------------------------------------------------|\n",
      "  |                              N=52                    N=22                          |\n",
      "  |------------------------------------------------------------------------------------|\n",
      "  | Price                        4,782.5 (4,184-6,234)   5,759 (4,499-7,140)    0.30   |\n",
      "  |------------------------------------------------------------------------------------|\n",
      "  | Weight (lbs.)                3317 (695)              2316 (433)            <0.001  |\n",
      "  |------------------------------------------------------------------------------------|\n",
      "  | Repair Record 1978   1       2 ( 4)                  0 ( 0)                <0.001  |\n",
      "  |                      2       8 (17)                  0 ( 0)                        |\n",
      "  |                      3       27 (56)                 3 (14)                        |\n",
      "  |                      4       9 (19)                  9 (43)                        |\n",
      "  |                      5       2 ( 4)                  9 (43)                        |\n",
      "  |------------------------------------------------------------------------------------|\n",
      "  | much_headroom                28 (54)                 2 ( 9)                <0.001  |\n",
      "  +------------------------------------------------------------------------------------+\n",
      "Data are presented as mean (SD) for continuous measures, and n (%) for categorical measures.\n",
      " \n"
     ]
    }
   ],
   "source": [
    "table1_mc, by(foreign) vars(price conts\\ weight contn %5.0f \\ rep78 cate \\ much_headroom bine) percsign(\"\")"
   ]
  },
  {
   "cell_type": "markdown",
   "metadata": {},
   "source": [
    "## 2.2. Hiển thị phần trăm theo ```hàng``` thay vì phần trăm theo ```cột```"
   ]
  },
  {
   "cell_type": "code",
   "execution_count": 18,
   "metadata": {},
   "outputs": [
    {
     "name": "stdout",
     "output_type": "stream",
     "text": [
      "\n",
      "  +--------------------------------------------+\n",
      "  | factor               N_0   N_1   m_0   m_1 |\n",
      "  |--------------------------------------------|\n",
      "  | Price                 52    22     0     0 |\n",
      "  |--------------------------------------------|\n",
      "  | Weight (lbs.)         52    22     0     0 |\n",
      "  |--------------------------------------------|\n",
      "  | Repair Record 1978    48    21     4     1 |\n",
      "  |--------------------------------------------|\n",
      "  | much_headroom         52    22     0     0 |\n",
      "  +--------------------------------------------+\n",
      "   N_ ... #records used below,   m_ ... #records not used\n",
      " \n",
      "  +------------------------------------------------------------------------------------+\n",
      "  |                              Domestic                Foreign               p-value |\n",
      "  |------------------------------------------------------------------------------------|\n",
      "  |                              N=52                    N=22                          |\n",
      "  |------------------------------------------------------------------------------------|\n",
      "  | Price                        4,782.5 (4,184-6,234)   5,759 (4,499-7,140)    0.30   |\n",
      "  |------------------------------------------------------------------------------------|\n",
      "  | Weight (lbs.)                3317 (695)              2316 (433)            <0.001  |\n",
      "  |------------------------------------------------------------------------------------|\n",
      "  | Repair Record 1978   1       2 (100%)                0 ( 0%)               <0.001  |\n",
      "  |                      2       8 (100%)                0 ( 0%)                       |\n",
      "  |                      3       27 (90%)                3 (10%)                       |\n",
      "  |                      4       9 (50%)                 9 (50%)                       |\n",
      "  |                      5       2 (18%)                 9 (82%)                       |\n",
      "  |------------------------------------------------------------------------------------|\n",
      "  | much_headroom                28 (54%)                2 ( 9%)               <0.001  |\n",
      "  +------------------------------------------------------------------------------------+\n",
      "Data are presented as mean (SD) for continuous measures, and n (row %) for categorical measures and n (column %) for binary measures.\n",
      " \n"
     ]
    }
   ],
   "source": [
    "table1_mc, by(foreign) vars(price conts\\ weight contn %5.0f \\ rep78 cate \\ much_headroom bine) catrowperc"
   ]
  },
  {
   "cell_type": "markdown",
   "metadata": {},
   "source": [
    "## 2.3. Định dạng ```mean ± sd``` thay vì ```mean (sd)``` "
   ]
  },
  {
   "cell_type": "code",
   "execution_count": 20,
   "metadata": {},
   "outputs": [
    {
     "name": "stdout",
     "output_type": "stream",
     "text": [
      "\n",
      "  +---------------------------------------+\n",
      "  | factor          N_0   N_1   m_0   m_1 |\n",
      "  |---------------------------------------|\n",
      "  | Price            52    22     0     0 |\n",
      "  |---------------------------------------|\n",
      "  | Weight (lbs.)    52    22     0     0 |\n",
      "  +---------------------------------------+\n",
      "   N_ ... #records used below,   m_ ... #records not used\n",
      " \n",
      "  +-----------------------------------------------------------------+\n",
      "  |                 Domestic            Foreign             p-value |\n",
      "  |-----------------------------------------------------------------|\n",
      "  |                 N=52                N=22                        |\n",
      "  |-----------------------------------------------------------------|\n",
      "  | Price           6,072.4 ± 3,097.1   6,384.7 ± 2,621.9    0.68   |\n",
      "  |-----------------------------------------------------------------|\n",
      "  | Weight (lbs.)   3317 ± 695          2316 ± 433          <0.001  |\n",
      "  +-----------------------------------------------------------------+\n",
      "Data are presented as mean ± SD.\n",
      " \n"
     ]
    }
   ],
   "source": [
    "table1_mc, by(foreign) vars(price contn\\ weight contn %5.0f) sdleft(\" ± \") sdright(\"\")"
   ]
  },
  {
   "cell_type": "markdown",
   "metadata": {},
   "source": [
    "## 2.4. Định dạng ```n/N``` thay vì ```n (%)```: Phù hợp với các biến có N khác nhau"
   ]
  },
  {
   "cell_type": "code",
   "execution_count": 24,
   "metadata": {},
   "outputs": [
    {
     "name": "stdout",
     "output_type": "stream",
     "text": [
      "\n",
      "  +--------------------------------------------+\n",
      "  | factor               N_0   N_1   m_0   m_1 |\n",
      "  |--------------------------------------------|\n",
      "  | Repair Record 1978    48    21     4     1 |\n",
      "  |--------------------------------------------|\n",
      "  | much_headroom         52    22     0     0 |\n",
      "  +--------------------------------------------+\n",
      "   N_ ... #records used below,   m_ ... #records not used\n",
      " \n",
      "  +---------------------------------------------------------------+\n",
      "  |                              Domestic     Foreign     p-value |\n",
      "  |---------------------------------------------------------------|\n",
      "  |                              N=52         N=22                |\n",
      "  |---------------------------------------------------------------|\n",
      "  | Repair Record 1978   1       2/48 (4)     0/21 (0)    <0.001  |\n",
      "  |                      2       8/48 (17)    0/21 (0)            |\n",
      "  |                      3       27/48 (56)   3/21 (14)           |\n",
      "  |                      4       9/48 (19)    9/21 (43)           |\n",
      "  |                      5       2/48 (4)     9/21 (43)           |\n",
      "  |---------------------------------------------------------------|\n",
      "  | much_headroom                28/52 (54)   2/22 (9)    <0.001  |\n",
      "  +---------------------------------------------------------------+\n",
      "Data are presented as n/total (%).\n",
      " \n"
     ]
    }
   ],
   "source": [
    "table1_mc, by(foreign) vars(rep78 cate \\ much_headroom bine) slashN percsign(\"\") nospacelowpercent"
   ]
  },
  {
   "cell_type": "markdown",
   "metadata": {},
   "source": [
    "### Chú ý: Các tuỳ chọn xuất bảng số liệu sang Excel như của table1 vẫn được giữ nguyên, ngoài ra thì table1_mc có thể xuất bản báo cáo ra Word. Trong phần giới thiệu này tôi không mô phỏng việc xuất sang Word. Chúng ta có thể tìm hiểu thêm các tuỳ chọn của table1_mc bằng cách đọc tệp help (```help table1_mc```). Chúc các bạn thực hành vui!"
   ]
  }
 ],
 "metadata": {
  "hide_input": false,
  "kernelspec": {
   "display_name": "Stata",
   "language": "stata",
   "name": "stata"
  },
  "language_info": {
   "codemirror_mode": "stata",
   "file_extension": ".do",
   "mimetype": "text/x-stata",
   "name": "stata",
   "version": "15.1"
  }
 },
 "nbformat": 4,
 "nbformat_minor": 4
}
