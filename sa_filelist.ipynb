{
 "cells": [
  {
   "cell_type": "markdown",
   "metadata": {},
   "source": [
    "# ```filelist``` - một câu lệnh để thao tác với files\n",
    "\n",
    "> Stata amateur <br>\n",
    "> Ngày 19, tháng 8 năm 2021"
   ]
  },
  {
   "cell_type": "markdown",
   "metadata": {},
   "source": [
    "Nếu đã sử dụng Stata chắc hẳn là bạn đã biết đến câu lệnh **`dir`**. \n",
    "Câu lệnh này giúp hiển thị các file/sub-folder có trong folder của bạn. \n",
    "Nó có thể hiển thị tất cả các file/sub-folder hoặc các file theo một định dạng cụ thể nào đó. Tuy nhiên, hạn chế của câu lệnh **`dir`** là chỉ liệt kê danh sách các files có trong thư 1 thư mục (thường là thư mục làm việc hiện tại). Nếu muốn xem thông tin của thư mục con (subfolder) thì phải thêm 1 câu lệnh **`dir`** khác. Ngoài ra, câu lệnh **`dir`** không thể giúp lưu tên các files trong thư mục thành 1 dataset cho các mục đích thao tác khác được. \n",
    "\n",
    "**`filelist`** chính là câu lệnh khắc phục được các hạn chế kể trên, giúp thao tác với files và folder hiệu quả hơn.\n",
    "Bài viết này sẽ giới thiệu về câu lệnh này. Câu lệnh này ra đời xuất phát từ một câu hỏi trên Statalist của **Tim Evans**, do đó ở một trường hợp nào đó nó sẽ hữu dụng với bạn.\n",
    "\n",
    "Nếu chưa được cài đặt câu lệnh trước đó thì hãy gõ lệnh sau đây để cài đặt:\n",
    "\n",
    "```stata\n",
    "ssc install filelist\n",
    "```\n"
   ]
  },
  {
   "cell_type": "code",
   "execution_count": 1,
   "metadata": {},
   "outputs": [
    {
     "name": "stdout",
     "output_type": "stream",
     "text": [
      "D:\\Datasets\\HR Data\n"
     ]
    }
   ],
   "source": [
    "* chuyển đến thư mục chứa số liệu\n",
    "cd \"D:\\Datasets\\HR Data\""
   ]
  },
  {
   "cell_type": "code",
   "execution_count": 2,
   "metadata": {},
   "outputs": [
    {
     "name": "stdout",
     "output_type": "stream",
     "text": [
      "\n",
      "  <dir>   8/19/21 13:57  .                 \n",
      "  <dir>   8/19/21 13:57  ..                \n",
      "  64.5k   6/17/20 11:00  201501.xls        \n",
      "  65.0k   6/17/20 11:00  201502.xls        \n",
      "  65.0k   6/17/20 11:00  201503.xls        \n",
      "  66.0k   6/17/20 11:00  201504.xls        \n",
      "  68.5k   6/17/20 11:00  201505.xls        \n",
      "  <dir>   8/19/21  9:48  csv files         \n",
      "   2.8k   8/19/21 13:57  files_in_folder.dta\n",
      "   2.8k   8/19/21 13:56  files_in_folder.dta, replace\n",
      "\n",
      "  64.5k   6/17/20 11:00  201501.xls        \n",
      "  65.0k   6/17/20 11:00  201502.xls        \n",
      "  65.0k   6/17/20 11:00  201503.xls        \n",
      "  66.0k   6/17/20 11:00  201504.xls        \n",
      "  68.5k   6/17/20 11:00  201505.xls        \n"
     ]
    }
   ],
   "source": [
    "dir\n",
    "dir *.xls"
   ]
  },
  {
   "cell_type": "markdown",
   "metadata": {},
   "source": [
    "Nếu tôi sử dụng lệnh **dir** thì tôi sẽ biết được là trong thư mục của tôi có chưa 1 thư mục con (**csv files**) và 5 files đữ liệu. Còn nếu tôi dùng câu lệnh **dir \\*.xls** thì mà hỉnh sẽ chỉ hiển thị file có đuôi là **.xls**. Dấu \\* thể hiện cho tất cả những tên file đằng trước đuôi **.xls**."
   ]
  },
  {
   "cell_type": "code",
   "execution_count": 3,
   "metadata": {},
   "outputs": [
    {
     "name": "stdout",
     "output_type": "stream",
     "text": [
      "Number of files found = 22\n"
     ]
    }
   ],
   "source": [
    "filelist"
   ]
  },
  {
   "cell_type": "code",
   "execution_count": 4,
   "metadata": {},
   "outputs": [
    {
     "data": {
      "text/html": [
       "<div>\n",
       "<style scoped>\n",
       "    .dataframe tbody tr th:only-of-type {\n",
       "        vertical-align: middle;\n",
       "    }\n",
       "\n",
       "    .dataframe tbody tr th {\n",
       "        vertical-align: top;\n",
       "    }\n",
       "\n",
       "    .dataframe thead th {\n",
       "        text-align: right;\n",
       "    }\n",
       "</style>\n",
       "<table border=\"1\" class=\"dataframe\">\n",
       "  <thead>\n",
       "    <tr style=\"text-align: right;\">\n",
       "      <th></th>\n",
       "      <th>dirname</th>\n",
       "      <th>filename</th>\n",
       "      <th>fsize</th>\n",
       "    </tr>\n",
       "  </thead>\n",
       "  <tbody>\n",
       "    <tr>\n",
       "      <th>1</th>\n",
       "      <td>.</td>\n",
       "      <td>201501.xls</td>\n",
       "      <td>66048</td>\n",
       "    </tr>\n",
       "    <tr>\n",
       "      <th>2</th>\n",
       "      <td>.</td>\n",
       "      <td>201502.xls</td>\n",
       "      <td>66560</td>\n",
       "    </tr>\n",
       "    <tr>\n",
       "      <th>3</th>\n",
       "      <td>.</td>\n",
       "      <td>201503.xls</td>\n",
       "      <td>66560</td>\n",
       "    </tr>\n",
       "    <tr>\n",
       "      <th>4</th>\n",
       "      <td>.</td>\n",
       "      <td>201504.xls</td>\n",
       "      <td>67584</td>\n",
       "    </tr>\n",
       "    <tr>\n",
       "      <th>5</th>\n",
       "      <td>.</td>\n",
       "      <td>201505.xls</td>\n",
       "      <td>70144</td>\n",
       "    </tr>\n",
       "    <tr>\n",
       "      <th>6</th>\n",
       "      <td>.</td>\n",
       "      <td>files_in_folder.dta</td>\n",
       "      <td>2820</td>\n",
       "    </tr>\n",
       "    <tr>\n",
       "      <th>7</th>\n",
       "      <td>.</td>\n",
       "      <td>files_in_folder.dta, replace</td>\n",
       "      <td>2820</td>\n",
       "    </tr>\n",
       "    <tr>\n",
       "      <th>8</th>\n",
       "      <td>./csv files</td>\n",
       "      <td>201501.csv</td>\n",
       "      <td>18500</td>\n",
       "    </tr>\n",
       "    <tr>\n",
       "      <th>9</th>\n",
       "      <td>./csv files</td>\n",
       "      <td>201502.csv</td>\n",
       "      <td>18616</td>\n",
       "    </tr>\n",
       "    <tr>\n",
       "      <th>10</th>\n",
       "      <td>./csv files</td>\n",
       "      <td>201503.csv</td>\n",
       "      <td>18610</td>\n",
       "    </tr>\n",
       "    <tr>\n",
       "      <th>11</th>\n",
       "      <td>./csv files</td>\n",
       "      <td>201504.csv</td>\n",
       "      <td>18896</td>\n",
       "    </tr>\n",
       "    <tr>\n",
       "      <th>12</th>\n",
       "      <td>./csv files</td>\n",
       "      <td>201505.csv</td>\n",
       "      <td>19607</td>\n",
       "    </tr>\n",
       "    <tr>\n",
       "      <th>13</th>\n",
       "      <td>./csv files</td>\n",
       "      <td>201506.csv</td>\n",
       "      <td>20328</td>\n",
       "    </tr>\n",
       "    <tr>\n",
       "      <th>14</th>\n",
       "      <td>./csv files</td>\n",
       "      <td>201507.csv</td>\n",
       "      <td>20883</td>\n",
       "    </tr>\n",
       "    <tr>\n",
       "      <th>15</th>\n",
       "      <td>./csv files</td>\n",
       "      <td>201508.csv</td>\n",
       "      <td>21705</td>\n",
       "    </tr>\n",
       "    <tr>\n",
       "      <th>16</th>\n",
       "      <td>./csv files</td>\n",
       "      <td>201509.csv</td>\n",
       "      <td>22205</td>\n",
       "    </tr>\n",
       "    <tr>\n",
       "      <th>17</th>\n",
       "      <td>./csv files</td>\n",
       "      <td>201510.csv</td>\n",
       "      <td>23300</td>\n",
       "    </tr>\n",
       "    <tr>\n",
       "      <th>18</th>\n",
       "      <td>./csv files</td>\n",
       "      <td>201511.csv</td>\n",
       "      <td>24137</td>\n",
       "    </tr>\n",
       "    <tr>\n",
       "      <th>19</th>\n",
       "      <td>./csv files</td>\n",
       "      <td>201512.csv</td>\n",
       "      <td>24571</td>\n",
       "    </tr>\n",
       "    <tr>\n",
       "      <th>20</th>\n",
       "      <td>./csv files</td>\n",
       "      <td>201601.csv</td>\n",
       "      <td>25520</td>\n",
       "    </tr>\n",
       "    <tr>\n",
       "      <th>21</th>\n",
       "      <td>./csv files</td>\n",
       "      <td>201602.csv</td>\n",
       "      <td>26103</td>\n",
       "    </tr>\n",
       "    <tr>\n",
       "      <th>22</th>\n",
       "      <td>./csv files</td>\n",
       "      <td>201603.csv</td>\n",
       "      <td>27550</td>\n",
       "    </tr>\n",
       "  </tbody>\n",
       "</table>\n",
       "</div>"
      ],
      "text/plain": [
       "\n",
       "     +-----------------------------------------------------+\n",
       "     | dirname       filename                        fsize |\n",
       "     |-----------------------------------------------------|\n",
       "  1. | .             201501.xls                     66,048 |\n",
       "  2. | .             201502.xls                     66,560 |\n",
       "  3. | .             201503.xls                     66,560 |\n",
       "  4. | .             201504.xls                     67,584 |\n",
       "  5. | .             201505.xls                     70,144 |\n",
       "     |-----------------------------------------------------|\n",
       "  6. | .             files_in_folder.dta             2,820 |\n",
       "  7. | .             files_in_folder.dta, replace    2,820 |\n",
       "  8. | ./csv files   201501.csv                     18,500 |\n",
       "  9. | ./csv files   201502.csv                     18,616 |\n",
       " 10. | ./csv files   201503.csv                     18,610 |\n",
       "     |-----------------------------------------------------|\n",
       " 11. | ./csv files   201504.csv                     18,896 |\n",
       " 12. | ./csv files   201505.csv                     19,607 |\n",
       " 13. | ./csv files   201506.csv                     20,328 |\n",
       " 14. | ./csv files   201507.csv                     20,883 |\n",
       " 15. | ./csv files   201508.csv                     21,705 |\n",
       "     |-----------------------------------------------------|\n",
       " 16. | ./csv files   201509.csv                     22,205 |\n",
       " 17. | ./csv files   201510.csv                     23,300 |\n",
       " 18. | ./csv files   201511.csv                     24,137 |\n",
       " 19. | ./csv files   201512.csv                     24,571 |\n",
       " 20. | ./csv files   201601.csv                     25,520 |\n",
       "     |-----------------------------------------------------|\n",
       " 21. | ./csv files   201602.csv                     26,103 |\n",
       " 22. | ./csv files   201603.csv                     27,550 |\n",
       "     +-----------------------------------------------------+\n",
       "\n"
      ]
     },
     "metadata": {},
     "output_type": "display_data"
    }
   ],
   "source": [
    "%browse"
   ]
  },
  {
   "cell_type": "markdown",
   "metadata": {},
   "source": [
    "Bạn cũng có thể chỉ hiện thị chỉ những file có đuôi là **.xls** hoặc chỉ có đuôi là **.csv** với option ```pattern``` trong lệnh ```filelist```"
   ]
  },
  {
   "cell_type": "code",
   "execution_count": 5,
   "metadata": {},
   "outputs": [
    {
     "name": "stdout",
     "output_type": "stream",
     "text": [
      "\n",
      "Number of files found = 15\n",
      "\n",
      "\n",
      "  +-----------------------------------+\n",
      "  | dirname       filename      fsize |\n",
      "  |-----------------------------------|\n",
      "  | ./csv files   201501.csv   18,500 |\n",
      "  | ./csv files   201502.csv   18,616 |\n",
      "  | ./csv files   201503.csv   18,610 |\n",
      "  | ./csv files   201504.csv   18,896 |\n",
      "  | ./csv files   201505.csv   19,607 |\n",
      "  |-----------------------------------|\n",
      "  | ./csv files   201506.csv   20,328 |\n",
      "  | ./csv files   201507.csv   20,883 |\n",
      "  | ./csv files   201508.csv   21,705 |\n",
      "  | ./csv files   201509.csv   22,205 |\n",
      "  | ./csv files   201510.csv   23,300 |\n",
      "  |-----------------------------------|\n",
      "  | ./csv files   201511.csv   24,137 |\n",
      "  | ./csv files   201512.csv   24,571 |\n",
      "  | ./csv files   201601.csv   25,520 |\n",
      "  | ./csv files   201602.csv   26,103 |\n",
      "  | ./csv files   201603.csv   27,550 |\n",
      "  +-----------------------------------+\n"
     ]
    }
   ],
   "source": [
    "filelist, pattern(\"*.csv\")\n",
    "list, noobs"
   ]
  },
  {
   "cell_type": "markdown",
   "metadata": {},
   "source": [
    "Với `filelist` bạn có thể lưu những files này thành một dataset với Stata format khi sử dụng option `save`, option `replace` để ghi đè lên file dataset nếu file đó đã tồn tại."
   ]
  },
  {
   "cell_type": "code",
   "execution_count": 6,
   "metadata": {},
   "outputs": [
    {
     "name": "stdout",
     "output_type": "stream",
     "text": [
      "\n",
      "Number of files found = 15\n",
      "(note: file files_csv.dta not found)\n",
      "file files_csv.dta saved\n",
      "\n",
      "\n",
      "\n",
      "  +-----------------------------------+\n",
      "  | dirname       filename      fsize |\n",
      "  |-----------------------------------|\n",
      "  | ./csv files   201501.csv   18,500 |\n",
      "  | ./csv files   201502.csv   18,616 |\n",
      "  | ./csv files   201503.csv   18,610 |\n",
      "  | ./csv files   201504.csv   18,896 |\n",
      "  | ./csv files   201505.csv   19,607 |\n",
      "  |-----------------------------------|\n",
      "  | ./csv files   201506.csv   20,328 |\n",
      "  | ./csv files   201507.csv   20,883 |\n",
      "  | ./csv files   201508.csv   21,705 |\n",
      "  | ./csv files   201509.csv   22,205 |\n",
      "  | ./csv files   201510.csv   23,300 |\n",
      "  |-----------------------------------|\n",
      "  | ./csv files   201511.csv   24,137 |\n",
      "  | ./csv files   201512.csv   24,571 |\n",
      "  | ./csv files   201601.csv   25,520 |\n",
      "  | ./csv files   201602.csv   26,103 |\n",
      "  | ./csv files   201603.csv   27,550 |\n",
      "  +-----------------------------------+\n"
     ]
    }
   ],
   "source": [
    "filelist, save(files_csv.dta) pattern(\"*.csv\") replace\n",
    "use files_csv.dta, clear\n",
    "list, noobs"
   ]
  },
  {
   "cell_type": "markdown",
   "metadata": {},
   "source": [
    "**Một ứng dụng của việc sử dụng `filelist` là để import và nối tất cả các files trong folder/subfolder với nhau, như ví dụ dưới đây**\n",
    "\n",
    "```stata\n",
    "use file_csv.dta, clear\n",
    "local obs = _N\n",
    "forvalues i=1/`obs' {\n",
    "    use file_csv.dta in `i', clear\n",
    "    local f = dirname + \"/\" + filename\n",
    "    insheet using \"`f'\", clear\n",
    "    gen data_from = \"`f'\"\n",
    "    tempfile save`i' \n",
    "    save \"`save`i''\"\n",
    "}\n",
    "use \"`save1'\", clear\n",
    "forvalues i=2/`obs' {\n",
    "    append using \"`save`i''\"\n",
    "}\n",
    "```"
   ]
  },
  {
   "cell_type": "markdown",
   "metadata": {},
   "source": [
    "## Cảm ơn các bạn đã dành thời gian đọc bài viết và chúc các bạn thực hành vui!"
   ]
  },
  {
   "cell_type": "code",
   "execution_count": null,
   "metadata": {},
   "outputs": [],
   "source": []
  }
 ],
 "metadata": {
  "hide_input": false,
  "kernelspec": {
   "display_name": "Stata",
   "language": "stata",
   "name": "stata"
  },
  "language_info": {
   "codemirror_mode": "stata",
   "file_extension": ".do",
   "mimetype": "text/x-stata",
   "name": "stata",
   "version": "15.1"
  }
 },
 "nbformat": 4,
 "nbformat_minor": 4
}
