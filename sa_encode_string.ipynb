{
 "cells": [
  {
   "cell_type": "markdown",
   "metadata": {},
   "source": [
    "# Mã hoá biến định tính dạng String\n",
    "\n",
    "> Stata amateur <br>\n",
    "> Ngày 25/08/2021"
   ]
  },
  {
   "cell_type": "markdown",
   "metadata": {},
   "source": [
    "Lấy cảm hứng từ hàm `get_dummies()` của `pandas` và `OneHotEncoder()/OrdinalEncoder()` của `sklearn` trong python. Tôi thực hiện thử nghiệm sau đây để mã hoá biến định tính dạng String."
   ]
  },
  {
   "cell_type": "markdown",
   "metadata": {},
   "source": [
    "Chương trình này sẽ chuyển tất các các biến dạng string có từ 2 -> dưới 8 lựa chọn thành dạng biến dummy (biến danh mục - không phân theo thứ hạng) và biến theo thứ hạng. Việc xác định biến danh mục với thứ hạng là bước đầu tiên"
   ]
  },
  {
   "cell_type": "markdown",
   "metadata": {},
   "source": [
    "1. Tập danh sách các biến string\n",
    "\n",
    "2. Đòng bộ biến string đó (bỏ khoảng trống thừa, chuyển về lowercase, ... )\n",
    "\n",
    "3. Phân loại biến danh mục và thứ hạng\n",
    "\n",
    "4. Mã hoá biến danh mục thành dummy\n",
    "\n",
    "5. Mã hoá biến thứ hạng"
   ]
  },
  {
   "cell_type": "code",
   "execution_count": null,
   "metadata": {
    "scrolled": false
   },
   "outputs": [],
   "source": [
    "// 1. Lập danh sách các biến string\n",
    "qui ds, has(type string)\n",
    "local strvar `r(varlist)'\n",
    "\n",
    "// 2. Đồng bộ biến string (bỏ khoảng trống thừa, chuyển về lowercase)\n",
    "foreach vr of local strvar {\n",
    "    qui replace `vr' = ustrlower(`vr')\n",
    "    qui replace `vr' = ustrtrim(`vr')\n",
    "}\n",
    "\n",
    "// 3. Lập danh sách các biến mục tiêu để chuyển thành biến dummy\n",
    "local canvar \"\"\n",
    "la de yesno 0 \"Không\" 1 \"Có\", modify\n",
    "set varabbrev off\n",
    "\n",
    "foreach vr of local strvar {\n",
    "    qui tab `vr'\n",
    "    if `r(r)' >=2 & `r(r)'<=8 local canvar = \"`canvar'\" + \" `vr'\"\n",
    "}\n",
    "if strlen(\"`canvar'\") == 0 {\n",
    "    di in re \"Không có biến string nào có từ 2-8 lựa chọn\"\n",
    "    error 102\n",
    "}\n",
    "\n",
    "\n",
    "// 4. Chuyển biến số về dạng dummy\n",
    "foreach vr of local canvar {\n",
    "    qui tab `vr', gen(`vr')\n",
    "    local nval `r(r)'\n",
    "\n",
    "    * tạo nhãn biến mới \n",
    "    forvalues i=1/`nval' {\n",
    "        local varlabel`i' : var lab `vr'\n",
    "        local varlabel`i' = subinstr(\"`varlabel`i''\", \"`vr'==\", \"\", .)\n",
    "    }\n",
    "\n",
    "\n",
    "    * Gán nhãn cho biến số\n",
    "    forvalues i=1/`nval' {\n",
    "        la var `vr'`i' \"`varlabel`i''\"\n",
    "        la val `vr'`i' yesno\n",
    "    }\n",
    "}\n",
    "\n",
    "* Xoá những biến số cũ\n",
    "qui drop `canvar'"
   ]
  },
  {
   "cell_type": "code",
   "execution_count": null,
   "metadata": {},
   "outputs": [],
   "source": [
    "* Chương trình mã hoá string dưới dạng biến thứ hạng\n",
    "cap program drop encodeordinal\n",
    "program define encodeordinal\n",
    "    syntax varlist\n",
    "    foreach vr of varlist `varlist' {\n",
    "        qui replace `vr' = ustrtrim(`vr')\n",
    "        qui encode `vr', gen(`vr'_en) label(label_`vr')\n",
    "        order `vr'_en, after(`vr')\n",
    "    }    \n",
    "    qui drop `varlist'\n",
    "end"
   ]
  },
  {
   "cell_type": "markdown",
   "metadata": {},
   "source": [
    "## Các bước thực hiện làm sạch:\n",
    "\n",
    "1. Xác định biến thứ hạng\n",
    "\n",
    "2. Chạy chương trình mã hoá string dưới dạng biến thứ hạng\n",
    "\n",
    "3. Chạy mã hoá biến string còn lại (từ 2-8 lựa chọn) thành biến dummy"
   ]
  },
  {
   "cell_type": "code",
   "execution_count": null,
   "metadata": {},
   "outputs": [],
   "source": []
  }
 ],
 "metadata": {
  "hide_input": false,
  "kernelspec": {
   "display_name": "Stata",
   "language": "stata",
   "name": "stata"
  },
  "language_info": {
   "codemirror_mode": "stata",
   "file_extension": ".do",
   "mimetype": "text/x-stata",
   "name": "stata",
   "version": "15.1"
  }
 },
 "nbformat": 4,
 "nbformat_minor": 4
}
