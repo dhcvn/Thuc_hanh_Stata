{
 "cells": [
  {
   "cell_type": "markdown",
   "metadata": {},
   "source": [
    "\n",
    "<h1><center>Bài giới thiệu một số cách so sánh trong Stata\n",
    "    \n",
    "</center></h1>"
   ]
  },
  {
   "cell_type": "markdown",
   "metadata": {},
   "source": [
    "Một trong những vấn đề thường gặp trong quản lý dữ liệu là so sánh những giá trị khác nhau của cùng 1 biến (So sánh giá trị ở 2 hàng khác nhau). Những vấn đề này gặp phổ biến hơn trong dữ liệu mảng hoặc dữ liệu theo dõi dọc.\n",
    "\n",
    "Bài giới thiệu này sẽ đưa ra một số giải pháp để giải quyết vấn đề qua từng ví dụ cụ thể với hàm sum() và cond()"
   ]
  },
  {
   "cell_type": "markdown",
   "metadata": {},
   "source": [
    "Tài liệu tham khảo: https://journals.sagepub.com/doi/pdf/10.1177/1536867X1101100210"
   ]
  },
  {
   "cell_type": "markdown",
   "metadata": {},
   "source": [
    "## Ví dụ 1: Bộ số liệu về tuổi thọ trung bình (life expectancy) của Mỹ từ năm 1900."
   ]
  },
  {
   "cell_type": "code",
   "execution_count": 1,
   "metadata": {},
   "outputs": [
    {
     "name": "stdout",
     "output_type": "stream",
     "text": [
      "\n",
      "(U.S. life expectancy, 1900-1999)\n",
      "\n",
      "\n",
      "Contains data from C:\\Program Files (x86)\\Stata15\\ado\\base/u/uslifeexp.dta\n",
      "  obs:           100                          U.S. life expectancy, 1900-1999\n",
      " vars:            10                          30 Mar 2016 04:31\n",
      " size:         3,800                          \n",
      "Sorted by: year\n"
     ]
    }
   ],
   "source": [
    "sysuse uslifeexp, clear\n",
    "describe, short"
   ]
  },
  {
   "cell_type": "code",
   "execution_count": 2,
   "metadata": {},
   "outputs": [
    {
     "data": {
      "text/html": [
       "<div>\n",
       "<style scoped>\n",
       "    .dataframe tbody tr th:only-of-type {\n",
       "        vertical-align: middle;\n",
       "    }\n",
       "\n",
       "    .dataframe tbody tr th {\n",
       "        vertical-align: top;\n",
       "    }\n",
       "\n",
       "    .dataframe thead th {\n",
       "        text-align: right;\n",
       "    }\n",
       "</style>\n",
       "<table border=\"1\" class=\"dataframe\">\n",
       "  <thead>\n",
       "    <tr style=\"text-align: right;\">\n",
       "      <th></th>\n",
       "      <th>year</th>\n",
       "      <th>le</th>\n",
       "      <th>le_male</th>\n",
       "      <th>le_female</th>\n",
       "      <th>le_w</th>\n",
       "      <th>le_wmale</th>\n",
       "      <th>le_wfemale</th>\n",
       "      <th>le_b</th>\n",
       "      <th>le_bmale</th>\n",
       "      <th>le_bfemale</th>\n",
       "    </tr>\n",
       "  </thead>\n",
       "  <tbody>\n",
       "    <tr>\n",
       "      <th>1</th>\n",
       "      <td>1900</td>\n",
       "      <td>47.299999</td>\n",
       "      <td>46.299999</td>\n",
       "      <td>48.299999</td>\n",
       "      <td>47.599998</td>\n",
       "      <td>46.599998</td>\n",
       "      <td>48.700001</td>\n",
       "      <td>33</td>\n",
       "      <td>32.5</td>\n",
       "      <td>33.5</td>\n",
       "    </tr>\n",
       "    <tr>\n",
       "      <th>2</th>\n",
       "      <td>1901</td>\n",
       "      <td>49.099998</td>\n",
       "      <td>47.599998</td>\n",
       "      <td>50.599998</td>\n",
       "      <td>49.400002</td>\n",
       "      <td>48</td>\n",
       "      <td>51</td>\n",
       "      <td>33.700001</td>\n",
       "      <td>32.200001</td>\n",
       "      <td>35.299999</td>\n",
       "    </tr>\n",
       "    <tr>\n",
       "      <th>3</th>\n",
       "      <td>1902</td>\n",
       "      <td>51.5</td>\n",
       "      <td>49.799999</td>\n",
       "      <td>53.400002</td>\n",
       "      <td>51.900002</td>\n",
       "      <td>50.200001</td>\n",
       "      <td>53.799999</td>\n",
       "      <td>34.599998</td>\n",
       "      <td>32.900002</td>\n",
       "      <td>36.400002</td>\n",
       "    </tr>\n",
       "    <tr>\n",
       "      <th>4</th>\n",
       "      <td>1903</td>\n",
       "      <td>50.5</td>\n",
       "      <td>49.099998</td>\n",
       "      <td>52</td>\n",
       "      <td>50.900002</td>\n",
       "      <td>49.5</td>\n",
       "      <td>52.5</td>\n",
       "      <td>33.099998</td>\n",
       "      <td>31.700001</td>\n",
       "      <td>34.599998</td>\n",
       "    </tr>\n",
       "    <tr>\n",
       "      <th>5</th>\n",
       "      <td>1904</td>\n",
       "      <td>47.599998</td>\n",
       "      <td>46.200001</td>\n",
       "      <td>49.099998</td>\n",
       "      <td>48</td>\n",
       "      <td>46.599998</td>\n",
       "      <td>49.5</td>\n",
       "      <td>30.799999</td>\n",
       "      <td>29.1</td>\n",
       "      <td>32.700001</td>\n",
       "    </tr>\n",
       "  </tbody>\n",
       "</table>\n",
       "</div>"
      ],
      "text/plain": [
       "\n",
       "     +----------------------------------------------------------------------+\n",
       "  1. | year |   le | le_male | le_fem~e | le_w | le_wmale | le_wfe~e | le_b |\n",
       "     | 1900 | 47.3 |    46.3 |     48.3 | 47.6 |     46.6 |     48.7 |   33 |\n",
       "     |----------------------------------+-----------------------------------|\n",
       "     |             le_bmale             |             le_bfe~e              |\n",
       "     |                 32.5             |                 33.5              |\n",
       "     +----------------------------------------------------------------------+\n",
       "\n",
       "     +----------------------------------------------------------------------+\n",
       "  2. | year |   le | le_male | le_fem~e | le_w | le_wmale | le_wfe~e | le_b |\n",
       "     | 1901 | 49.1 |    47.6 |     50.6 | 49.4 |       48 |       51 | 33.7 |\n",
       "     |----------------------------------+-----------------------------------|\n",
       "     |             le_bmale             |             le_bfe~e              |\n",
       "     |                 32.2             |                 35.3              |\n",
       "     +----------------------------------------------------------------------+\n",
       "\n",
       "     +----------------------------------------------------------------------+\n",
       "  3. | year |   le | le_male | le_fem~e | le_w | le_wmale | le_wfe~e | le_b |\n",
       "     | 1902 | 51.5 |    49.8 |     53.4 | 51.9 |     50.2 |     53.8 | 34.6 |\n",
       "     |----------------------------------+-----------------------------------|\n",
       "     |             le_bmale             |             le_bfe~e              |\n",
       "     |                 32.9             |                 36.4              |\n",
       "     +----------------------------------------------------------------------+\n",
       "\n",
       "     +----------------------------------------------------------------------+\n",
       "  4. | year |   le | le_male | le_fem~e | le_w | le_wmale | le_wfe~e | le_b |\n",
       "     | 1903 | 50.5 |    49.1 |       52 | 50.9 |     49.5 |     52.5 | 33.1 |\n",
       "     |----------------------------------+-----------------------------------|\n",
       "     |             le_bmale             |             le_bfe~e              |\n",
       "     |                 31.7             |                 34.6              |\n",
       "     +----------------------------------------------------------------------+\n",
       "\n",
       "     +----------------------------------------------------------------------+\n",
       "  5. | year |   le | le_male | le_fem~e | le_w | le_wmale | le_wfe~e | le_b |\n",
       "     | 1904 | 47.6 |    46.2 |     49.1 |   48 |     46.6 |     49.5 | 30.8 |\n",
       "     |----------------------------------+-----------------------------------|\n",
       "     |             le_bmale             |             le_bfe~e              |\n",
       "     |                 29.1             |                 32.7              |\n",
       "     +----------------------------------------------------------------------+\n",
       "\n"
      ]
     },
     "metadata": {},
     "output_type": "display_data"
    }
   ],
   "source": [
    "%head 5"
   ]
  },
  {
   "cell_type": "markdown",
   "metadata": {},
   "source": [
    "Bộ dữ liệu này chứa giá trị về kỳ vọng sống ở Mỹ qua nhiều năm, tính từ năm 1900.\n",
    "\n",
    "Chú thích: _le_ là viết tắt của _life expectancy_\n",
    "\n",
    "Giả sử: muốn tính thay đổi tuổi thọ trung bình lấy năm 1960 làm tham chiếu. Có nhiều cách tính khác nhau cho trường hợp này."
   ]
  },
  {
   "cell_type": "code",
   "execution_count": 3,
   "metadata": {},
   "outputs": [
    {
     "name": "stdout",
     "output_type": "stream",
     "text": [
      "\n",
      "\n",
      "\n",
      "     +------------------------+\n",
      "     | year     le   le_index |\n",
      "     |------------------------|\n",
      " 55. | 1954   69.6   99.85653 |\n",
      " 56. | 1955   69.6   99.85653 |\n",
      " 57. | 1956   69.7        100 |\n",
      " 58. | 1957   69.5   99.71306 |\n",
      " 59. | 1958   69.6   99.85653 |\n",
      "     |------------------------|\n",
      " 60. | 1959   69.9   100.2869 |\n",
      " 61. | 1960   69.7        100 |\n",
      " 62. | 1961   70.2   100.7174 |\n",
      " 63. | 1962   70.1   100.5739 |\n",
      " 64. | 1963   69.9   100.2869 |\n",
      "     +------------------------+\n"
     ]
    }
   ],
   "source": [
    "// Cách tính đầu tiên:\n",
    "* Để ý rằng bộ số liệu đang xếp theo thứ tự tăng dần theo năm, do đó năm 2960 sẽ ở record 61\n",
    "* tính sự thay đổi trong tuổi thọ trung bình so với năm 1960\n",
    "gen le_index = 100 * le/le[61] // đơn vị %\n",
    "list year le le_index in 55/64"
   ]
  },
  {
   "cell_type": "markdown",
   "metadata": {},
   "source": [
    "Như vậy chúng ta có thể thấy được sự thay đổi tuổi thọ trung bình (theo %) với mốc là năm 1960.\n",
    "\n",
    "Tuy nhiên với phương pháp này thì khi dữ liệu không sắp xếp tăng dần theo năm thì giá trị tuổi thọ trung bình của năm 1960 sẽ không còn nằm ở hàng thứ 61. Do đó, áp dụng cách này sẽ dễ gây nhầm lẫn."
   ]
  },
  {
   "cell_type": "code",
   "execution_count": 4,
   "metadata": {},
   "outputs": [],
   "source": [
    "// Cách thứ 2: chắc chắn là gán đúng giá trị của năm 1960\n",
    "* tạo biến mới để đánh dấu giá trị năm 1960\n",
    "gen tag = year==1960\n",
    "sort tag \n",
    "* sau khi sort thì giá trị tuổi thọ của năm 1960 luôn nằm ở hàng cuối cùng\n",
    "gen le_index2 = 100 * le/le[_N]\n",
    "assert le_index == le_index2"
   ]
  },
  {
   "cell_type": "code",
   "execution_count": 5,
   "metadata": {},
   "outputs": [],
   "source": [
    "// Cách thư 3: Cách tổng quát hơn kể cả đối với số liệu mảng và chuỗi thời gian.\n",
    "gen basevalue = sum((year==1960) * le)\n",
    "gen le_index3 = 100 * le/le[_N]\n",
    "assert le_index == le_index3"
   ]
  },
  {
   "cell_type": "markdown",
   "metadata": {},
   "source": [
    "Tại sao cách thứ 3 là cách tổng quát, bao gồm trường hợp số liệu mảng và chuỗi thời gian. \n",
    "Ở đây sẽ không bàn về phương pháp thứ nhất, bởi với mỗi nhóm thì giá trị cgần so sánh có thể ở hàng khác nhau\n",
    "\n",
    "Bằng bộ số liệu dưới đây, chúng ta sẽ thấy tại sao cách 2 không phải là cách tổng quát."
   ]
  },
  {
   "cell_type": "code",
   "execution_count": 6,
   "metadata": {},
   "outputs": [],
   "source": [
    "webuse grunfeld, clear"
   ]
  },
  {
   "cell_type": "code",
   "execution_count": 7,
   "metadata": {},
   "outputs": [
    {
     "data": {
      "text/html": [
       "<div>\n",
       "<style scoped>\n",
       "    .dataframe tbody tr th:only-of-type {\n",
       "        vertical-align: middle;\n",
       "    }\n",
       "\n",
       "    .dataframe tbody tr th {\n",
       "        vertical-align: top;\n",
       "    }\n",
       "\n",
       "    .dataframe thead th {\n",
       "        text-align: right;\n",
       "    }\n",
       "</style>\n",
       "<table border=\"1\" class=\"dataframe\">\n",
       "  <thead>\n",
       "    <tr style=\"text-align: right;\">\n",
       "      <th></th>\n",
       "      <th>company</th>\n",
       "      <th>year</th>\n",
       "      <th>invest</th>\n",
       "      <th>mvalue</th>\n",
       "      <th>kstock</th>\n",
       "      <th>time</th>\n",
       "    </tr>\n",
       "  </thead>\n",
       "  <tbody>\n",
       "    <tr>\n",
       "      <th>1</th>\n",
       "      <td>1</td>\n",
       "      <td>1935</td>\n",
       "      <td>317.60001</td>\n",
       "      <td>3078.5</td>\n",
       "      <td>2.8</td>\n",
       "      <td>1</td>\n",
       "    </tr>\n",
       "    <tr>\n",
       "      <th>2</th>\n",
       "      <td>1</td>\n",
       "      <td>1936</td>\n",
       "      <td>391.79999</td>\n",
       "      <td>4661.7002</td>\n",
       "      <td>52.599998</td>\n",
       "      <td>2</td>\n",
       "    </tr>\n",
       "    <tr>\n",
       "      <th>3</th>\n",
       "      <td>1</td>\n",
       "      <td>1937</td>\n",
       "      <td>410.60001</td>\n",
       "      <td>5387.1001</td>\n",
       "      <td>156.89999</td>\n",
       "      <td>3</td>\n",
       "    </tr>\n",
       "    <tr>\n",
       "      <th>4</th>\n",
       "      <td>1</td>\n",
       "      <td>1938</td>\n",
       "      <td>257.70001</td>\n",
       "      <td>2792.2</td>\n",
       "      <td>209.2</td>\n",
       "      <td>4</td>\n",
       "    </tr>\n",
       "    <tr>\n",
       "      <th>5</th>\n",
       "      <td>1</td>\n",
       "      <td>1939</td>\n",
       "      <td>330.79999</td>\n",
       "      <td>4313.2002</td>\n",
       "      <td>203.39999</td>\n",
       "      <td>5</td>\n",
       "    </tr>\n",
       "  </tbody>\n",
       "</table>\n",
       "</div>"
      ],
      "text/plain": [
       "\n",
       "     +--------------------------------------------------+\n",
       "     | company   year   invest   mvalue   kstock   time |\n",
       "     |--------------------------------------------------|\n",
       "  1. |       1   1935    317.6   3078.5      2.8      1 |\n",
       "  2. |       1   1936    391.8   4661.7     52.6      2 |\n",
       "  3. |       1   1937    410.6   5387.1    156.9      3 |\n",
       "  4. |       1   1938    257.7   2792.2    209.2      4 |\n",
       "  5. |       1   1939    330.8   4313.2    203.4      5 |\n",
       "     +--------------------------------------------------+\n",
       "\n"
      ]
     },
     "metadata": {},
     "output_type": "display_data"
    }
   ],
   "source": [
    "%head 5"
   ]
  },
  {
   "cell_type": "code",
   "execution_count": 8,
   "metadata": {},
   "outputs": [
    {
     "data": {
      "text/html": [
       "<div>\n",
       "<style scoped>\n",
       "    .dataframe tbody tr th:only-of-type {\n",
       "        vertical-align: middle;\n",
       "    }\n",
       "\n",
       "    .dataframe tbody tr th {\n",
       "        vertical-align: top;\n",
       "    }\n",
       "\n",
       "    .dataframe thead th {\n",
       "        text-align: right;\n",
       "    }\n",
       "</style>\n",
       "<table border=\"1\" class=\"dataframe\">\n",
       "  <thead>\n",
       "    <tr style=\"text-align: right;\">\n",
       "      <th></th>\n",
       "      <th>company</th>\n",
       "      <th>year</th>\n",
       "      <th>invest</th>\n",
       "      <th>mvalue</th>\n",
       "      <th>kstock</th>\n",
       "      <th>time</th>\n",
       "    </tr>\n",
       "  </thead>\n",
       "  <tbody>\n",
       "    <tr>\n",
       "      <th>196</th>\n",
       "      <td>10</td>\n",
       "      <td>1950</td>\n",
       "      <td>3.4200001</td>\n",
       "      <td>69.050003</td>\n",
       "      <td>8.7399998</td>\n",
       "      <td>16</td>\n",
       "    </tr>\n",
       "    <tr>\n",
       "      <th>197</th>\n",
       "      <td>10</td>\n",
       "      <td>1951</td>\n",
       "      <td>4.6700001</td>\n",
       "      <td>83.040001</td>\n",
       "      <td>9.0699997</td>\n",
       "      <td>17</td>\n",
       "    </tr>\n",
       "    <tr>\n",
       "      <th>198</th>\n",
       "      <td>10</td>\n",
       "      <td>1952</td>\n",
       "      <td>6</td>\n",
       "      <td>74.419998</td>\n",
       "      <td>9.9300003</td>\n",
       "      <td>18</td>\n",
       "    </tr>\n",
       "    <tr>\n",
       "      <th>199</th>\n",
       "      <td>10</td>\n",
       "      <td>1953</td>\n",
       "      <td>6.5300002</td>\n",
       "      <td>63.509998</td>\n",
       "      <td>11.68</td>\n",
       "      <td>19</td>\n",
       "    </tr>\n",
       "    <tr>\n",
       "      <th>200</th>\n",
       "      <td>10</td>\n",
       "      <td>1954</td>\n",
       "      <td>5.1199999</td>\n",
       "      <td>58.119999</td>\n",
       "      <td>14.33</td>\n",
       "      <td>20</td>\n",
       "    </tr>\n",
       "  </tbody>\n",
       "</table>\n",
       "</div>"
      ],
      "text/plain": [
       "\n",
       "     +--------------------------------------------------+\n",
       "     | company   year   invest   mvalue   kstock   time |\n",
       "     |--------------------------------------------------|\n",
       "196. |      10   1950     3.42    69.05     8.74     16 |\n",
       "197. |      10   1951     4.67    83.04     9.07     17 |\n",
       "198. |      10   1952        6    74.42     9.93     18 |\n",
       "199. |      10   1953     6.53    63.51    11.68     19 |\n",
       "200. |      10   1954     5.12    58.12    14.33     20 |\n",
       "     +--------------------------------------------------+"
      ]
     },
     "metadata": {},
     "output_type": "display_data"
    }
   ],
   "source": [
    "%tail 5"
   ]
  },
  {
   "cell_type": "code",
   "execution_count": 9,
   "metadata": {},
   "outputs": [
    {
     "name": "stdout",
     "output_type": "stream",
     "text": [
      "\n",
      "(190 missing values generated)\n",
      "\n"
     ]
    }
   ],
   "source": [
    "// Áp dụng câu lệnh tương tự với cách làm thứ 2\n",
    "* tính thay đổi % invest với mốc thời gian là năm 1939, theo từng công ty (company)\n",
    "gen byte baseyear = 1 if year == 1939\n",
    "bysort company (baseyear): gen invest_index = 100 * invest/invest[1]"
   ]
  },
  {
   "cell_type": "markdown",
   "metadata": {},
   "source": [
    "Nếu để ý kĩ hơn vào câu lệnh thì đối với những công ty (company) nào mà không có số liệu cho năm 1939 thì giá trị của baseyear sẽ bằng missing hết. Do đó, giá trị invest_index của công ty đó sẽ so sánh với năm ở hàng đầu tiên.\n",
    "\n",
    "Đối với những dữ liệu thật, chúng ta phải đảm bảo rằng câu lệnh của chúng ta bao gồm hết tất cả các trường hợp. Cùng phân tích kĩ hơn câu lệnh theo cách số 3"
   ]
  },
  {
   "cell_type": "code",
   "execution_count": 10,
   "metadata": {},
   "outputs": [],
   "source": [
    "bysort company: gen basevalue = sum((year==1939) * invest)\n",
    "by company: gen invest_index2 = 100 * (invest/basevalue[_N])"
   ]
  },
  {
   "cell_type": "markdown",
   "metadata": {},
   "source": [
    "Thay vì đánh dấu năm mong muốn, chúng ta đánh dấu giá trị của năm mong muốn (basevalue thay vì baseyear)\n",
    "(year==1939) trong lệnh sum có giá trị bằng 0 hoặc bằng 1, tuỳ thuộc vào điều kiện trong ngoặc có xảy ra hay không.\n",
    "Do đó giá trị của basevalue sẽ là 0 hoặc giá trị của invest ở năm 1939\n",
    "đặc điểm của sum() là luôn để giá trị lớn nhất ở cuối cùng do đó không cần sort.\n",
    "\n",
    "Như vậy khi tính invest_index2 sẽ bao quát hết tất cả trường hợp của các nhóm kể cả khi 1 công ty nào đó không có số liệu theo dõi cho năm 1939."
   ]
  },
  {
   "cell_type": "markdown",
   "metadata": {},
   "source": [
    "_Chú ý:_ Hàm total() có thể dùng thay cho hàm sum() để cho kết quả tương tự nhưng dùng với egen. Câu lệnh như sau:"
   ]
  },
  {
   "cell_type": "code",
   "execution_count": 11,
   "metadata": {},
   "outputs": [],
   "source": [
    "cap drop basevalue\n",
    "bysort company: egen basevalue = total((year==1939) * invest)\n",
    "by company: gen invest_index3 = 100 * (invest/basevalue[_N])"
   ]
  },
  {
   "cell_type": "markdown",
   "metadata": {},
   "source": [
    "# Ví dụ 2: Sử dụng bộ số liệu auto với hàm cond()"
   ]
  },
  {
   "cell_type": "code",
   "execution_count": 12,
   "metadata": {},
   "outputs": [
    {
     "name": "stdout",
     "output_type": "stream",
     "text": [
      "(1978 Automobile Data)\n"
     ]
    }
   ],
   "source": [
    "sysuse auto, clear"
   ]
  },
  {
   "cell_type": "markdown",
   "metadata": {},
   "source": [
    "Với mỗi nhóm foreign thì tính giá trị trung bình của weight với điều kiện là mpg > 25."
   ]
  },
  {
   "cell_type": "code",
   "execution_count": 13,
   "metadata": {},
   "outputs": [
    {
     "name": "stdout",
     "output_type": "stream",
     "text": [
      "(60 missing values generated)\n"
     ]
    }
   ],
   "source": [
    "// Cách 1: tính tuần tự theo các bước\n",
    "bysort foreign: egen mean_weight = mean(weight) if mpg>25 "
   ]
  },
  {
   "cell_type": "markdown",
   "metadata": {},
   "source": [
    "Câu lệnh trên tính trung bình của cân nặng (weight) theo từng nhóm foreign với điều kiện mpg>25. \n",
    "Tuy nhiên, với những trường hợp mà mpg<25 thì mean_weight sẽ là giá trị missing.\n",
    "Do đó phải thay thế giá trị missing này bằng giá trị của nhóm foreign để tạo ra biến hoàn chỉnh."
   ]
  },
  {
   "cell_type": "code",
   "execution_count": 14,
   "metadata": {},
   "outputs": [
    {
     "name": "stdout",
     "output_type": "stream",
     "text": [
      "(60 real changes made)\n"
     ]
    }
   ],
   "source": [
    "bysort foreign (mean_weight): replace mean_weight = mean_weight[1]"
   ]
  },
  {
   "cell_type": "code",
   "execution_count": 15,
   "metadata": {},
   "outputs": [],
   "source": [
    "// Cách 2: Sử dụng hàm cond() cho kết quả tương tự với 1 dòng lệnh\n",
    "bysort foreign: egen mean_weight2 = mean(cond(mpg > 25, weight, .))"
   ]
  },
  {
   "cell_type": "code",
   "execution_count": 16,
   "metadata": {},
   "outputs": [],
   "source": [
    "assert mean_weight==mean_weight2"
   ]
  },
  {
   "cell_type": "markdown",
   "metadata": {},
   "source": [
    "Lệnh assert đã cho thấy 2 cách làm có kết quả như nhau."
   ]
  },
  {
   "cell_type": "code",
   "execution_count": 17,
   "metadata": {},
   "outputs": [],
   "source": [
    "// Cách 3: Sử dụng điều kiện trong 1 thương số\n",
    "bysort foreign: egen mean_weight3 = mean(weight/(mpg>25))\n",
    "assert mean_weight==mean_weight3"
   ]
  },
  {
   "cell_type": "markdown",
   "metadata": {},
   "source": [
    "Ở đây mpg>25 là một điều kiện trả về giá trị 0 hoặc 1. Khi đó với mỗi nhóm foreign tính mean weight sẽ là tính mean khi mpg>25. Ở đây để ý rằng khi tính mean thì hàm sẽ tự động loại bỏ giá trị missing, chỉ tính những giá trị non-missing và trả về giá trị tính được cho tất cả các hàng."
   ]
  },
  {
   "cell_type": "code",
   "execution_count": 18,
   "metadata": {},
   "outputs": [],
   "source": [
    "// Tương tự như cách 3 chúng ta có thể sử dụng để xem xe nào có giá nhỏ nhất với mpg>25\n",
    "bysort foreign: egen min_price = min(price/(mpg>25))"
   ]
  },
  {
   "cell_type": "code",
   "execution_count": null,
   "metadata": {},
   "outputs": [],
   "source": [
    "// Bằng cách tương tự như trên, chúng ta cũng có thể tính được người trưởng thành có tuổi nhỏ nhất.\n",
    "// Ví dụ: Theo câu lệnh dưới đây (câu lệnh giả định)\n",
    "bysort family: egen youngest_audult = min(age/(age>18))"
   ]
  },
  {
   "cell_type": "markdown",
   "metadata": {},
   "source": [
    "# Kết luận:\n"
   ]
  },
  {
   "cell_type": "markdown",
   "metadata": {},
   "source": [
    "Bài trên đây chúng ta đã đi qua một số phương pháp so sánh các giá trị giữa các hàng trong Stata. Đây là một góc nhìn mới ngay cả với những người đã sử dụng Stata một thời gian dài. Bài giới thiệu thú vị này hi vọng sẽ có ích cho việc thực hành Stata của các bạn. Chúc các bạn thực hành thành công!"
   ]
  }
 ],
 "metadata": {
  "hide_input": false,
  "kernelspec": {
   "display_name": "Stata",
   "language": "stata",
   "name": "stata"
  },
  "language_info": {
   "codemirror_mode": "stata",
   "file_extension": ".do",
   "mimetype": "text/x-stata",
   "name": "stata",
   "version": "15.1"
  }
 },
 "nbformat": 4,
 "nbformat_minor": 4
}
